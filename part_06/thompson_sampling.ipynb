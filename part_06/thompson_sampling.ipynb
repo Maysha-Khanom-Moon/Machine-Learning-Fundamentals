{
 "cells": [
  {
   "cell_type": "markdown",
   "metadata": {},
   "source": [
    "### Thompson Sampling\n",
    "<small>\n",
    "\n",
    "Thompson Sampling is a method used to make smart decisions when you’re unsure which option is best. \n",
    "\n",
    "It works by:\n",
    "1. Randomly picking options based on how good it thinks each one is.\n",
    "2. Updating its beliefs after each try, based on the results (good or bad).\n",
    "3. Balancing exploration and exploitation by sometimes choosing the best-known option and sometimes exploring others.\n",
    "\n",
    "It’s useful in situations like online advertising, A/B testing, or clinical trials, where you want to find the best choice without missing hidden opportunities. It’s like an explorer who keeps trying new things while learning from experience!\n",
    "\n",
    "<br>\n",
    "\n",
    "<b>UCB vs Thompson Sampling: </b>\n",
    "\n",
    "1. Decision type \n",
    "\n",
    "    - UCB: Deterministic (calculated choice)\n",
    "    - Thompson: Random (probability-based choice)\n",
    "        - probability:  giving each option a chance\n",
    "\n",
    "2. Exploration\n",
    "    - UCB: Controlled, based on confidence\n",
    "    - Thompson: Random, based on sampling guesses \n",
    "    \n",
    "    <br>\n",
    "\n",
    "    - UCB: Explores at first, then focuses on the best option and stops exploring other choices\n",
    "    - Thompson: Randomly explores, even after finding a good option, but doesn’t explore endlessly\n",
    "    \n",
    "\n",
    "3. Exploitation\n",
    "    - UCB: Picks the best-known option often\n",
    "    - Thompson: Picks the best option probabilistically\n",
    "\n",
    "4. Risk Level\n",
    "    - UCB: Low risk, safer choices\n",
    "    - Thompson: Higher risk, more exploration\n",
    "\n",
    "5. Speed\n",
    "    - UCB: Converges quickly to best option\n",
    "    - Thompson: Slower due to more exploration\n",
    "\n",
    "6. Use case\n",
    "    - UCB: Fast, stable, decision-making\n",
    "    - Thompson: Unvertain, high-reward environments\n",
    "\n",
    "<br>\n",
    "Generally, Thompson Sampling is considered better than UCB (Upper Confidence Bound) when dealing with small datasets because it leverages Bayesian statistics to incorporate prior information and naturally balances exploration and exploitation, making it more efficient in situations with limited data points compared to UCB's confidence interval-based approach\n",
    "</small>"
   ]
  },
  {
   "cell_type": "markdown",
   "metadata": {},
   "source": [
    "Importing the libraries"
   ]
  },
  {
   "cell_type": "code",
   "execution_count": 21,
   "metadata": {},
   "outputs": [],
   "source": [
    "import numpy as np \n",
    "import matplotlib.pyplot as plt \n",
    "import pandas as pd "
   ]
  },
  {
   "cell_type": "markdown",
   "metadata": {},
   "source": [
    "Importing the dataset"
   ]
  },
  {
   "cell_type": "code",
   "execution_count": 22,
   "metadata": {},
   "outputs": [],
   "source": [
    "dataset = pd.read_csv('Ads_CTR_Optimisation.csv')"
   ]
  },
  {
   "cell_type": "markdown",
   "metadata": {},
   "source": [
    "Implementing Thompson Sampling"
   ]
  },
  {
   "cell_type": "code",
   "execution_count": 23,
   "metadata": {},
   "outputs": [],
   "source": [
    "# UCB algorithm\n",
    "import random\n",
    "\n",
    "N = 10000\n",
    "d = 10\n",
    "\n",
    "ads_selected = []\n",
    "numbers_of_rewards_1 = [0] * d\n",
    "numbers_of_rewards_0 = [0] * d\n",
    "\n",
    "total_reward = 0\n",
    "\n",
    "for n in range(0, N):\n",
    "    ad = 0\n",
    "    max_random = 0\n",
    "    \n",
    "    for i in range(0, d):\n",
    "        random_beta = random.betavariate(numbers_of_rewards_1[i] + 1, numbers_of_rewards_0[i] + 1)\n",
    "        \n",
    "        if random_beta > max_random:\n",
    "            max_random = random_beta\n",
    "            ad = i \n",
    "    \n",
    "    ads_selected.append(ad)\n",
    "    reward = dataset.values[n, ad]\n",
    "    \n",
    "    if reward == 1:\n",
    "        numbers_of_rewards_1[ad] += 1\n",
    "    else:\n",
    "        numbers_of_rewards_0[ad] += 1\n",
    "    \n",
    "    total_reward += reward \n",
    "    "
   ]
  },
  {
   "cell_type": "markdown",
   "metadata": {},
   "source": [
    "Visualizing the results"
   ]
  },
  {
   "cell_type": "code",
   "execution_count": 24,
   "metadata": {},
   "outputs": [
    {
     "data": {
      "image/png": "[encoded data removed]",
      "text/plain": [
       "<Figure size 640x480 with 1 Axes>"
      ]
     },
     "metadata": {},
     "output_type": "display_data"
    }
   ],
   "source": [
    "plt.hist(ads_selected)\n",
    "plt.title('Histogram of ads selections')\n",
    "plt.xlabel('Ads')\n",
    "plt.ylabel('Number of times each ad was selected')\n",
    "plt.show()"
   ]
  }
 ],
 "metadata": {
  "kernelspec": {
   "display_name": "Python 3",
   "language": "python",
   "name": "python3"
  },
  "language_info": {
   "codemirror_mode": {
    "name": "ipython",
    "version": 3
   },
   "file_extension": ".py",
   "mimetype": "text/x-python",
   "name": "python",
   "nbconvert_exporter": "python",
   "pygments_lexer": "ipython3",
   "version": "3.13.1"
  }
 },
 "nbformat": 4,
 "nbformat_minor": 2
}
